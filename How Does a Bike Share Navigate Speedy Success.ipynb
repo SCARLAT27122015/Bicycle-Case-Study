{
 "cells": [
  {
   "cell_type": "markdown",
   "id": "c6843042",
   "metadata": {},
   "source": [
    "# How Does a Bike-Share Navigate Speedy Success?"
   ]
  },
  {
   "cell_type": "markdown",
   "id": "bb8d0875",
   "metadata": {},
   "source": [
    "In 2016, Cyclistic launched a successful bike-share offering. Since then, the program has grown to a fleet of 5,824 bicycles that\n",
    "are geotracked and locked into a network of 692 stations across Chicago. The bikes can be unlocked from one station and\n",
    "returned to any other station in the system anytime.\n",
    "Until now, Cyclistic’s marketing strategy relied on building general awareness and appealing to broad consumer segments.\n",
    "One approach that helped make these things possible was the flexibility of its pricing plans: single-ride passes, full-day passes,\n",
    "and annual memberships. Customers who purchase single-ride or full-day passes are referred to as casual riders. Customers\n",
    "who purchase annual memberships are Cyclistic members.\n",
    "Cyclistic’s finance analysts have concluded that annual members are much more profitable than casual riders. Although the\n",
    "pricing flexibility helps Cyclistic attract more customers, Moreno believes that maximizing the number of annual members will\n",
    "be key to future growth. Rather than creating a marketing campaign that targets all-new customers, Moreno believes there is a\n",
    "very good chance to convert casual riders into members. She notes that casual riders are already aware of the Cyclistic\n",
    "program and have chosen Cyclistic for their mobility needs.\n",
    "Moreno has set a clear goal: Design marketing strategies aimed at converting casual riders into annual members. In order to\n",
    "do that, however, the marketing analyst team needs to better understand how annual members and casual riders differ, why\n",
    "casual riders would buy a membership, and how digital media could affect their marketing tactics. Moreno and her team are\n",
    "interested in analyzing the Cyclistic historical bike trip data to identify trends.\n",
    "Ask\n",
    "Three questions will guide the future marketing program:\n",
    "* How do annual members and casual riders use Cyclistic bikes differently?\n",
    "* Why would casual riders buy Cyclistic annual memberships?\n",
    "* How can Cyclistic use digital media to influence casual riders to become members?\n"
   ]
  },
  {
   "cell_type": "markdown",
   "id": "49554d4f",
   "metadata": {},
   "source": [
    "### Step 1: Install libraries"
   ]
  },
  {
   "cell_type": "code",
   "execution_count": 87,
   "id": "c8c358a8",
   "metadata": {
    "scrolled": true
   },
   "outputs": [],
   "source": [
    "#pip install pandas"
   ]
  },
  {
   "cell_type": "code",
   "execution_count": 88,
   "id": "35ed42b1",
   "metadata": {},
   "outputs": [],
   "source": [
    "#pip install numpy"
   ]
  },
  {
   "cell_type": "code",
   "execution_count": 89,
   "id": "95e30a81",
   "metadata": {},
   "outputs": [],
   "source": [
    "#pip install seaborn"
   ]
  },
  {
   "cell_type": "markdown",
   "id": "f1155eef",
   "metadata": {},
   "source": [
    "### Step 2: Import libraries needed"
   ]
  },
  {
   "cell_type": "code",
   "execution_count": 92,
   "id": "1bace7c6",
   "metadata": {},
   "outputs": [],
   "source": [
    "import os, glob\n",
    "import pandas as pd\n",
    "import pathlib\n",
    "import numpy as np\n",
    "import matplotlib.pyplot as plt\n",
    "import seaborn as sns\n",
    "\n",
    "sns.set_theme()"
   ]
  },
  {
   "cell_type": "markdown",
   "id": "3c43508a",
   "metadata": {},
   "source": [
    "### Step 3: Merge all files\n",
    "This is done because we have data distributed in multiple .csv files.\n",
    "\n",
    "*Data made available by Motivate International Inc*"
   ]
  },
  {
   "cell_type": "code",
   "execution_count": 93,
   "id": "af41ecfa",
   "metadata": {},
   "outputs": [
    {
     "data": {
      "text/html": [
       "<div>\n",
       "<style scoped>\n",
       "    .dataframe tbody tr th:only-of-type {\n",
       "        vertical-align: middle;\n",
       "    }\n",
       "\n",
       "    .dataframe tbody tr th {\n",
       "        vertical-align: top;\n",
       "    }\n",
       "\n",
       "    .dataframe thead th {\n",
       "        text-align: right;\n",
       "    }\n",
       "</style>\n",
       "<table border=\"1\" class=\"dataframe\">\n",
       "  <thead>\n",
       "    <tr style=\"text-align: right;\">\n",
       "      <th></th>\n",
       "      <th>ride_id</th>\n",
       "      <th>rideable_type</th>\n",
       "      <th>started_at</th>\n",
       "      <th>ended_at</th>\n",
       "      <th>start_station_name</th>\n",
       "      <th>start_station_id</th>\n",
       "      <th>end_station_name</th>\n",
       "      <th>end_station_id</th>\n",
       "      <th>start_lat</th>\n",
       "      <th>start_lng</th>\n",
       "      <th>end_lat</th>\n",
       "      <th>end_lng</th>\n",
       "      <th>member_casual</th>\n",
       "    </tr>\n",
       "  </thead>\n",
       "  <tbody>\n",
       "    <tr>\n",
       "      <th>0</th>\n",
       "      <td>C809ED75D6160B2A</td>\n",
       "      <td>electric_bike</td>\n",
       "      <td>2021-05-30 11:58:15</td>\n",
       "      <td>2021-05-30 12:10:39</td>\n",
       "      <td>NaN</td>\n",
       "      <td>NaN</td>\n",
       "      <td>NaN</td>\n",
       "      <td>NaN</td>\n",
       "      <td>41.900000</td>\n",
       "      <td>-87.630000</td>\n",
       "      <td>41.890000</td>\n",
       "      <td>-87.610000</td>\n",
       "      <td>casual</td>\n",
       "    </tr>\n",
       "    <tr>\n",
       "      <th>1</th>\n",
       "      <td>DD59FDCE0ACACAF3</td>\n",
       "      <td>electric_bike</td>\n",
       "      <td>2021-05-30 11:29:14</td>\n",
       "      <td>2021-05-30 12:14:09</td>\n",
       "      <td>NaN</td>\n",
       "      <td>NaN</td>\n",
       "      <td>NaN</td>\n",
       "      <td>NaN</td>\n",
       "      <td>41.880000</td>\n",
       "      <td>-87.620000</td>\n",
       "      <td>41.790000</td>\n",
       "      <td>-87.580000</td>\n",
       "      <td>casual</td>\n",
       "    </tr>\n",
       "    <tr>\n",
       "      <th>2</th>\n",
       "      <td>0AB83CB88C43EFC2</td>\n",
       "      <td>electric_bike</td>\n",
       "      <td>2021-05-30 14:24:01</td>\n",
       "      <td>2021-05-30 14:25:13</td>\n",
       "      <td>NaN</td>\n",
       "      <td>NaN</td>\n",
       "      <td>NaN</td>\n",
       "      <td>NaN</td>\n",
       "      <td>41.920000</td>\n",
       "      <td>-87.700000</td>\n",
       "      <td>41.920000</td>\n",
       "      <td>-87.700000</td>\n",
       "      <td>casual</td>\n",
       "    </tr>\n",
       "    <tr>\n",
       "      <th>3</th>\n",
       "      <td>7881AC6D39110C60</td>\n",
       "      <td>electric_bike</td>\n",
       "      <td>2021-05-30 14:25:51</td>\n",
       "      <td>2021-05-30 14:41:04</td>\n",
       "      <td>NaN</td>\n",
       "      <td>NaN</td>\n",
       "      <td>NaN</td>\n",
       "      <td>NaN</td>\n",
       "      <td>41.920000</td>\n",
       "      <td>-87.700000</td>\n",
       "      <td>41.940000</td>\n",
       "      <td>-87.690000</td>\n",
       "      <td>casual</td>\n",
       "    </tr>\n",
       "    <tr>\n",
       "      <th>4</th>\n",
       "      <td>853FA701B4582BAF</td>\n",
       "      <td>electric_bike</td>\n",
       "      <td>2021-05-30 18:15:39</td>\n",
       "      <td>2021-05-30 18:22:32</td>\n",
       "      <td>NaN</td>\n",
       "      <td>NaN</td>\n",
       "      <td>NaN</td>\n",
       "      <td>NaN</td>\n",
       "      <td>41.940000</td>\n",
       "      <td>-87.690000</td>\n",
       "      <td>41.940000</td>\n",
       "      <td>-87.700000</td>\n",
       "      <td>casual</td>\n",
       "    </tr>\n",
       "    <tr>\n",
       "      <th>...</th>\n",
       "      <td>...</td>\n",
       "      <td>...</td>\n",
       "      <td>...</td>\n",
       "      <td>...</td>\n",
       "      <td>...</td>\n",
       "      <td>...</td>\n",
       "      <td>...</td>\n",
       "      <td>...</td>\n",
       "      <td>...</td>\n",
       "      <td>...</td>\n",
       "      <td>...</td>\n",
       "      <td>...</td>\n",
       "      <td>...</td>\n",
       "    </tr>\n",
       "    <tr>\n",
       "      <th>5757546</th>\n",
       "      <td>C5A123D7BF8D350A</td>\n",
       "      <td>electric_bike</td>\n",
       "      <td>2022-04-22 15:54:11</td>\n",
       "      <td>2022-04-22 16:20:59</td>\n",
       "      <td>Streeter Dr &amp; Grand Ave</td>\n",
       "      <td>13022</td>\n",
       "      <td>California Ave &amp; North Ave</td>\n",
       "      <td>13258</td>\n",
       "      <td>41.892296</td>\n",
       "      <td>-87.612198</td>\n",
       "      <td>41.910475</td>\n",
       "      <td>-87.696894</td>\n",
       "      <td>member</td>\n",
       "    </tr>\n",
       "    <tr>\n",
       "      <th>5757547</th>\n",
       "      <td>F7FCC7C26D8D137D</td>\n",
       "      <td>electric_bike</td>\n",
       "      <td>2022-04-21 20:18:17</td>\n",
       "      <td>2022-04-21 20:46:45</td>\n",
       "      <td>Streeter Dr &amp; Grand Ave</td>\n",
       "      <td>13022</td>\n",
       "      <td>California Ave &amp; North Ave</td>\n",
       "      <td>13258</td>\n",
       "      <td>41.892295</td>\n",
       "      <td>-87.612323</td>\n",
       "      <td>41.910475</td>\n",
       "      <td>-87.696894</td>\n",
       "      <td>member</td>\n",
       "    </tr>\n",
       "    <tr>\n",
       "      <th>5757548</th>\n",
       "      <td>43D351300A40000A</td>\n",
       "      <td>classic_bike</td>\n",
       "      <td>2022-04-21 16:46:02</td>\n",
       "      <td>2022-04-21 17:15:05</td>\n",
       "      <td>Franklin St &amp; Monroe St</td>\n",
       "      <td>TA1309000007</td>\n",
       "      <td>St. Clair St &amp; Erie St</td>\n",
       "      <td>13016</td>\n",
       "      <td>41.880317</td>\n",
       "      <td>-87.635185</td>\n",
       "      <td>41.894345</td>\n",
       "      <td>-87.622798</td>\n",
       "      <td>member</td>\n",
       "    </tr>\n",
       "    <tr>\n",
       "      <th>5757549</th>\n",
       "      <td>1618BFEEA7B566EF</td>\n",
       "      <td>electric_bike</td>\n",
       "      <td>2022-04-16 13:19:44</td>\n",
       "      <td>2022-04-16 13:37:31</td>\n",
       "      <td>Ashland Ave &amp; Blackhawk St</td>\n",
       "      <td>13224</td>\n",
       "      <td>Southport Ave &amp; Waveland Ave</td>\n",
       "      <td>13235</td>\n",
       "      <td>41.907094</td>\n",
       "      <td>-87.667217</td>\n",
       "      <td>41.948150</td>\n",
       "      <td>-87.663940</td>\n",
       "      <td>casual</td>\n",
       "    </tr>\n",
       "    <tr>\n",
       "      <th>5757550</th>\n",
       "      <td>92C069001A6B17B1</td>\n",
       "      <td>electric_bike</td>\n",
       "      <td>2022-04-21 18:06:41</td>\n",
       "      <td>2022-04-21 18:11:49</td>\n",
       "      <td>Southport Ave &amp; Clark St</td>\n",
       "      <td>TA1308000047</td>\n",
       "      <td>Southport Ave &amp; Waveland Ave</td>\n",
       "      <td>13235</td>\n",
       "      <td>41.957102</td>\n",
       "      <td>-87.664184</td>\n",
       "      <td>41.948150</td>\n",
       "      <td>-87.663940</td>\n",
       "      <td>casual</td>\n",
       "    </tr>\n",
       "  </tbody>\n",
       "</table>\n",
       "<p>5757551 rows × 13 columns</p>\n",
       "</div>"
      ],
      "text/plain": [
       "                  ride_id  rideable_type           started_at  \\\n",
       "0        C809ED75D6160B2A  electric_bike  2021-05-30 11:58:15   \n",
       "1        DD59FDCE0ACACAF3  electric_bike  2021-05-30 11:29:14   \n",
       "2        0AB83CB88C43EFC2  electric_bike  2021-05-30 14:24:01   \n",
       "3        7881AC6D39110C60  electric_bike  2021-05-30 14:25:51   \n",
       "4        853FA701B4582BAF  electric_bike  2021-05-30 18:15:39   \n",
       "...                   ...            ...                  ...   \n",
       "5757546  C5A123D7BF8D350A  electric_bike  2022-04-22 15:54:11   \n",
       "5757547  F7FCC7C26D8D137D  electric_bike  2022-04-21 20:18:17   \n",
       "5757548  43D351300A40000A   classic_bike  2022-04-21 16:46:02   \n",
       "5757549  1618BFEEA7B566EF  electric_bike  2022-04-16 13:19:44   \n",
       "5757550  92C069001A6B17B1  electric_bike  2022-04-21 18:06:41   \n",
       "\n",
       "                    ended_at          start_station_name start_station_id  \\\n",
       "0        2021-05-30 12:10:39                         NaN              NaN   \n",
       "1        2021-05-30 12:14:09                         NaN              NaN   \n",
       "2        2021-05-30 14:25:13                         NaN              NaN   \n",
       "3        2021-05-30 14:41:04                         NaN              NaN   \n",
       "4        2021-05-30 18:22:32                         NaN              NaN   \n",
       "...                      ...                         ...              ...   \n",
       "5757546  2022-04-22 16:20:59     Streeter Dr & Grand Ave            13022   \n",
       "5757547  2022-04-21 20:46:45     Streeter Dr & Grand Ave            13022   \n",
       "5757548  2022-04-21 17:15:05     Franklin St & Monroe St     TA1309000007   \n",
       "5757549  2022-04-16 13:37:31  Ashland Ave & Blackhawk St            13224   \n",
       "5757550  2022-04-21 18:11:49    Southport Ave & Clark St     TA1308000047   \n",
       "\n",
       "                     end_station_name end_station_id  start_lat  start_lng  \\\n",
       "0                                 NaN            NaN  41.900000 -87.630000   \n",
       "1                                 NaN            NaN  41.880000 -87.620000   \n",
       "2                                 NaN            NaN  41.920000 -87.700000   \n",
       "3                                 NaN            NaN  41.920000 -87.700000   \n",
       "4                                 NaN            NaN  41.940000 -87.690000   \n",
       "...                               ...            ...        ...        ...   \n",
       "5757546    California Ave & North Ave          13258  41.892296 -87.612198   \n",
       "5757547    California Ave & North Ave          13258  41.892295 -87.612323   \n",
       "5757548        St. Clair St & Erie St          13016  41.880317 -87.635185   \n",
       "5757549  Southport Ave & Waveland Ave          13235  41.907094 -87.667217   \n",
       "5757550  Southport Ave & Waveland Ave          13235  41.957102 -87.664184   \n",
       "\n",
       "           end_lat    end_lng member_casual  \n",
       "0        41.890000 -87.610000        casual  \n",
       "1        41.790000 -87.580000        casual  \n",
       "2        41.920000 -87.700000        casual  \n",
       "3        41.940000 -87.690000        casual  \n",
       "4        41.940000 -87.700000        casual  \n",
       "...            ...        ...           ...  \n",
       "5757546  41.910475 -87.696894        member  \n",
       "5757547  41.910475 -87.696894        member  \n",
       "5757548  41.894345 -87.622798        member  \n",
       "5757549  41.948150 -87.663940        casual  \n",
       "5757550  41.948150 -87.663940        casual  \n",
       "\n",
       "[5757551 rows x 13 columns]"
      ]
     },
     "execution_count": 93,
     "metadata": {},
     "output_type": "execute_result"
    }
   ],
   "source": [
    "path = f'{pathlib.Path().absolute()}\\data sources'\n",
    "\n",
    "all_files = glob.glob(os.path.join(path, \"*.csv\"))\n",
    "df_from_each_file = (pd.read_csv(f) for f in all_files)\n",
    "df_merged = pd.concat(df_from_each_file, ignore_index=True)\n",
    "df_merged"
   ]
  },
  {
   "cell_type": "markdown",
   "id": "6edd14f2",
   "metadata": {},
   "source": [
    "### Step 4: Clean and prepare data\n",
    "\n",
    "This is to give format to relevant fields and perform some data processing."
   ]
  },
  {
   "cell_type": "code",
   "execution_count": 94,
   "id": "c5b9d8f2",
   "metadata": {
    "scrolled": true
   },
   "outputs": [
    {
     "name": "stdout",
     "output_type": "stream",
     "text": [
      "<class 'pandas.core.frame.DataFrame'>\n",
      "RangeIndex: 5757551 entries, 0 to 5757550\n",
      "Data columns (total 13 columns):\n",
      " #   Column              Dtype  \n",
      "---  ------              -----  \n",
      " 0   ride_id             object \n",
      " 1   rideable_type       object \n",
      " 2   started_at          object \n",
      " 3   ended_at            object \n",
      " 4   start_station_name  object \n",
      " 5   start_station_id    object \n",
      " 6   end_station_name    object \n",
      " 7   end_station_id      object \n",
      " 8   start_lat           float64\n",
      " 9   start_lng           float64\n",
      " 10  end_lat             float64\n",
      " 11  end_lng             float64\n",
      " 12  member_casual       object \n",
      "dtypes: float64(4), object(9)\n",
      "memory usage: 571.0+ MB\n"
     ]
    }
   ],
   "source": [
    "df_merged.info()"
   ]
  },
  {
   "cell_type": "code",
   "execution_count": 95,
   "id": "c5925f2c",
   "metadata": {},
   "outputs": [
    {
     "name": "stdout",
     "output_type": "stream",
     "text": [
      "<class 'pandas.core.frame.DataFrame'>\n",
      "RangeIndex: 5757551 entries, 0 to 5757550\n",
      "Data columns (total 13 columns):\n",
      " #   Column              Dtype         \n",
      "---  ------              -----         \n",
      " 0   ride_id             object        \n",
      " 1   rideable_type       object        \n",
      " 2   started_at          datetime64[ns]\n",
      " 3   ended_at            datetime64[ns]\n",
      " 4   start_station_name  object        \n",
      " 5   start_station_id    object        \n",
      " 6   end_station_name    object        \n",
      " 7   end_station_id      object        \n",
      " 8   start_lat           float64       \n",
      " 9   start_lng           float64       \n",
      " 10  end_lat             float64       \n",
      " 11  end_lng             float64       \n",
      " 12  member_casual       object        \n",
      "dtypes: datetime64[ns](2), float64(4), object(7)\n",
      "memory usage: 571.0+ MB\n"
     ]
    }
   ],
   "source": [
    "#Convert object to date fields\n",
    "\n",
    "df_merged['started_at'] = pd.to_datetime(df_merged['started_at'])\n",
    "df_merged['ended_at'] = pd.to_datetime(df_merged['ended_at'])\n",
    "df_merged.info()"
   ]
  },
  {
   "cell_type": "code",
   "execution_count": 96,
   "id": "513032d9",
   "metadata": {
    "scrolled": true
   },
   "outputs": [
    {
     "name": "stdout",
     "output_type": "stream",
     "text": [
      "<class 'pandas.core.frame.DataFrame'>\n",
      "RangeIndex: 5757551 entries, 0 to 5757550\n",
      "Data columns (total 15 columns):\n",
      " #   Column              Dtype         \n",
      "---  ------              -----         \n",
      " 0   ride_id             object        \n",
      " 1   rideable_type       object        \n",
      " 2   started_at          datetime64[ns]\n",
      " 3   ended_at            datetime64[ns]\n",
      " 4   start_station_name  object        \n",
      " 5   start_station_id    object        \n",
      " 6   end_station_name    object        \n",
      " 7   end_station_id      object        \n",
      " 8   start_lat           float64       \n",
      " 9   start_lng           float64       \n",
      " 10  end_lat             float64       \n",
      " 11  end_lng             float64       \n",
      " 12  member_casual       object        \n",
      " 13  ride_length         float64       \n",
      " 14  day_of_week         object        \n",
      "dtypes: datetime64[ns](2), float64(5), object(8)\n",
      "memory usage: 658.9+ MB\n"
     ]
    }
   ],
   "source": [
    "#Calculate length of ride and the day of the week in which the service was requested\n",
    "df_merged['ride_length'] = df_merged['ended_at'] - df_merged['started_at']\n",
    "df_merged['ride_length'] = (df_merged['ride_length'] / np.timedelta64(1, 's')) / 3600\n",
    "df_merged['day_of_week'] = df_merged['started_at'].dt.day_name()\n",
    "df_merged.info()"
   ]
  },
  {
   "cell_type": "code",
   "execution_count": 97,
   "id": "9c81ffe4",
   "metadata": {},
   "outputs": [
    {
     "data": {
      "text/html": [
       "<div>\n",
       "<style scoped>\n",
       "    .dataframe tbody tr th:only-of-type {\n",
       "        vertical-align: middle;\n",
       "    }\n",
       "\n",
       "    .dataframe tbody tr th {\n",
       "        vertical-align: top;\n",
       "    }\n",
       "\n",
       "    .dataframe thead th {\n",
       "        text-align: right;\n",
       "    }\n",
       "</style>\n",
       "<table border=\"1\" class=\"dataframe\">\n",
       "  <thead>\n",
       "    <tr style=\"text-align: right;\">\n",
       "      <th></th>\n",
       "      <th>ride_id</th>\n",
       "      <th>rideable_type</th>\n",
       "      <th>started_at</th>\n",
       "      <th>ended_at</th>\n",
       "      <th>start_station_name</th>\n",
       "      <th>start_station_id</th>\n",
       "      <th>end_station_name</th>\n",
       "      <th>end_station_id</th>\n",
       "      <th>start_lat</th>\n",
       "      <th>start_lng</th>\n",
       "      <th>end_lat</th>\n",
       "      <th>end_lng</th>\n",
       "      <th>member_casual</th>\n",
       "      <th>ride_length</th>\n",
       "      <th>day_of_week</th>\n",
       "    </tr>\n",
       "  </thead>\n",
       "  <tbody>\n",
       "    <tr>\n",
       "      <th>1127316</th>\n",
       "      <td>F043F0F6A1AA4F85</td>\n",
       "      <td>docked_bike</td>\n",
       "      <td>2021-06-05 02:27:26</td>\n",
       "      <td>2021-07-13 22:51:35</td>\n",
       "      <td>Michigan Ave &amp; Lake St</td>\n",
       "      <td>TA1305000011</td>\n",
       "      <td>Malcolm X College Vaccination Site</td>\n",
       "      <td>631</td>\n",
       "      <td>41.886024</td>\n",
       "      <td>-87.624117</td>\n",
       "      <td>41.877618</td>\n",
       "      <td>-87.673895</td>\n",
       "      <td>casual</td>\n",
       "      <td>932.402500</td>\n",
       "      <td>Saturday</td>\n",
       "    </tr>\n",
       "    <tr>\n",
       "      <th>1077109</th>\n",
       "      <td>7F0578ABF030FC83</td>\n",
       "      <td>docked_bike</td>\n",
       "      <td>2021-06-04 22:03:33</td>\n",
       "      <td>2021-07-13 14:15:14</td>\n",
       "      <td>Streeter Dr &amp; Grand Ave</td>\n",
       "      <td>13022</td>\n",
       "      <td>Base - 2132 W Hubbard Warehouse</td>\n",
       "      <td>Hubbard Bike-checking (LBS-WH-TEST)</td>\n",
       "      <td>41.892278</td>\n",
       "      <td>-87.612043</td>\n",
       "      <td>41.889955</td>\n",
       "      <td>-87.680651</td>\n",
       "      <td>casual</td>\n",
       "      <td>928.194722</td>\n",
       "      <td>Friday</td>\n",
       "    </tr>\n",
       "    <tr>\n",
       "      <th>46321</th>\n",
       "      <td>BDA1217EC8532C7B</td>\n",
       "      <td>docked_bike</td>\n",
       "      <td>2021-05-02 02:56:07</td>\n",
       "      <td>2021-06-08 13:37:43</td>\n",
       "      <td>State St &amp; Van Buren St</td>\n",
       "      <td>TA1305000035</td>\n",
       "      <td>Wells St &amp; Polk St</td>\n",
       "      <td>SL-011</td>\n",
       "      <td>41.877181</td>\n",
       "      <td>-87.627844</td>\n",
       "      <td>41.872596</td>\n",
       "      <td>-87.633502</td>\n",
       "      <td>casual</td>\n",
       "      <td>898.693333</td>\n",
       "      <td>Sunday</td>\n",
       "    </tr>\n",
       "    <tr>\n",
       "      <th>613346</th>\n",
       "      <td>E6E1E5BFFD72ECEC</td>\n",
       "      <td>docked_bike</td>\n",
       "      <td>2021-06-05 23:33:51</td>\n",
       "      <td>2021-07-12 13:55:14</td>\n",
       "      <td>Clark St &amp; Lake St</td>\n",
       "      <td>KA1503000012</td>\n",
       "      <td>Base - 2132 W Hubbard Warehouse</td>\n",
       "      <td>Hubbard Bike-checking (LBS-WH-TEST)</td>\n",
       "      <td>41.886021</td>\n",
       "      <td>-87.630876</td>\n",
       "      <td>41.889955</td>\n",
       "      <td>-87.680651</td>\n",
       "      <td>casual</td>\n",
       "      <td>878.356389</td>\n",
       "      <td>Saturday</td>\n",
       "    </tr>\n",
       "    <tr>\n",
       "      <th>1901574</th>\n",
       "      <td>99415B003B7E7EEE</td>\n",
       "      <td>docked_bike</td>\n",
       "      <td>2021-07-08 19:29:49</td>\n",
       "      <td>2021-08-11 21:56:58</td>\n",
       "      <td>Kedzie Ave &amp; Milwaukee Ave</td>\n",
       "      <td>13085</td>\n",
       "      <td>Base - 2132 W Hubbard Warehouse</td>\n",
       "      <td>Hubbard Bike-checking (LBS-WH-TEST)</td>\n",
       "      <td>41.929567</td>\n",
       "      <td>-87.707857</td>\n",
       "      <td>41.889955</td>\n",
       "      <td>-87.680651</td>\n",
       "      <td>casual</td>\n",
       "      <td>818.452500</td>\n",
       "      <td>Thursday</td>\n",
       "    </tr>\n",
       "  </tbody>\n",
       "</table>\n",
       "</div>"
      ],
      "text/plain": [
       "                  ride_id rideable_type          started_at  \\\n",
       "1127316  F043F0F6A1AA4F85   docked_bike 2021-06-05 02:27:26   \n",
       "1077109  7F0578ABF030FC83   docked_bike 2021-06-04 22:03:33   \n",
       "46321    BDA1217EC8532C7B   docked_bike 2021-05-02 02:56:07   \n",
       "613346   E6E1E5BFFD72ECEC   docked_bike 2021-06-05 23:33:51   \n",
       "1901574  99415B003B7E7EEE   docked_bike 2021-07-08 19:29:49   \n",
       "\n",
       "                   ended_at          start_station_name start_station_id  \\\n",
       "1127316 2021-07-13 22:51:35      Michigan Ave & Lake St     TA1305000011   \n",
       "1077109 2021-07-13 14:15:14     Streeter Dr & Grand Ave            13022   \n",
       "46321   2021-06-08 13:37:43     State St & Van Buren St     TA1305000035   \n",
       "613346  2021-07-12 13:55:14          Clark St & Lake St     KA1503000012   \n",
       "1901574 2021-08-11 21:56:58  Kedzie Ave & Milwaukee Ave            13085   \n",
       "\n",
       "                           end_station_name  \\\n",
       "1127316  Malcolm X College Vaccination Site   \n",
       "1077109     Base - 2132 W Hubbard Warehouse   \n",
       "46321                    Wells St & Polk St   \n",
       "613346      Base - 2132 W Hubbard Warehouse   \n",
       "1901574     Base - 2132 W Hubbard Warehouse   \n",
       "\n",
       "                              end_station_id  start_lat  start_lng    end_lat  \\\n",
       "1127316                                  631  41.886024 -87.624117  41.877618   \n",
       "1077109  Hubbard Bike-checking (LBS-WH-TEST)  41.892278 -87.612043  41.889955   \n",
       "46321                                 SL-011  41.877181 -87.627844  41.872596   \n",
       "613346   Hubbard Bike-checking (LBS-WH-TEST)  41.886021 -87.630876  41.889955   \n",
       "1901574  Hubbard Bike-checking (LBS-WH-TEST)  41.929567 -87.707857  41.889955   \n",
       "\n",
       "           end_lng member_casual  ride_length day_of_week  \n",
       "1127316 -87.673895        casual   932.402500    Saturday  \n",
       "1077109 -87.680651        casual   928.194722      Friday  \n",
       "46321   -87.633502        casual   898.693333      Sunday  \n",
       "613346  -87.680651        casual   878.356389    Saturday  \n",
       "1901574 -87.680651        casual   818.452500    Thursday  "
      ]
     },
     "execution_count": 97,
     "metadata": {},
     "output_type": "execute_result"
    }
   ],
   "source": [
    "df_merged.sort_values(by = 'ride_length', ascending =False).head()"
   ]
  },
  {
   "cell_type": "markdown",
   "id": "525fc1ff",
   "metadata": {},
   "source": [
    "Let us evaluate how many null values we have:"
   ]
  },
  {
   "cell_type": "code",
   "execution_count": 98,
   "id": "d8fff216",
   "metadata": {},
   "outputs": [
    {
     "name": "stdout",
     "output_type": "stream",
     "text": [
      "Column ride_id has 0 null values in total. This represents 0.0 of rate\n",
      "Column rideable_type has 0 null values in total. This represents 0.0 of rate\n",
      "Column started_at has 0 null values in total. This represents 0.0 of rate\n",
      "Column ended_at has 0 null values in total. This represents 0.0 of rate\n",
      "Column start_station_name has 790207 null values in total. This represents 0.14 of rate\n",
      "Column start_station_id has 790204 null values in total. This represents 0.14 of rate\n",
      "Column end_station_name has 843361 null values in total. This represents 0.15 of rate\n",
      "Column end_station_id has 843361 null values in total. This represents 0.15 of rate\n",
      "Column start_lat has 0 null values in total. This represents 0.0 of rate\n",
      "Column start_lng has 0 null values in total. This represents 0.0 of rate\n",
      "Column end_lat has 4766 null values in total. This represents 0.0 of rate\n",
      "Column end_lng has 4766 null values in total. This represents 0.0 of rate\n",
      "Column member_casual has 0 null values in total. This represents 0.0 of rate\n",
      "Column ride_length has 0 null values in total. This represents 0.0 of rate\n",
      "Column day_of_week has 0 null values in total. This represents 0.0 of rate\n"
     ]
    }
   ],
   "source": [
    "cols = df_merged.columns.values.tolist()\n",
    "cols_to_drop = []\n",
    "for col in cols:\n",
    "    total_nulls = df_merged[col].isna().sum()\n",
    "    if total_nulls > 0:\n",
    "        cols_to_drop.append(col)\n",
    "    print(f'Column {col} has {total_nulls} null values in total. This represents {round(total_nulls/df_merged.shape[0],2)} of rate')"
   ]
  },
  {
   "cell_type": "code",
   "execution_count": 99,
   "id": "cd7f434f",
   "metadata": {},
   "outputs": [
    {
     "data": {
      "text/plain": [
       "['start_station_name',\n",
       " 'start_station_id',\n",
       " 'end_station_name',\n",
       " 'end_station_id',\n",
       " 'end_lat',\n",
       " 'end_lng']"
      ]
     },
     "execution_count": 99,
     "metadata": {},
     "output_type": "execute_result"
    }
   ],
   "source": [
    "cols_to_drop"
   ]
  },
  {
   "cell_type": "markdown",
   "id": "4082ed06",
   "metadata": {},
   "source": [
    "As per what can be seen in the null values list, the following columns have between 14% and 15% of null values:\n",
    "\n",
    "* start station name\n",
    "* start_station_id\n",
    "* end_station_name\n",
    "* end_station_id\n",
    "\n",
    "Given that we are not going to use these columns in our analysis, we are just going to drop them from our data. In addition, we are going to drop the coord. colums"
   ]
  },
  {
   "cell_type": "code",
   "execution_count": 101,
   "id": "e468acb1",
   "metadata": {},
   "outputs": [
    {
     "data": {
      "text/html": [
       "<div>\n",
       "<style scoped>\n",
       "    .dataframe tbody tr th:only-of-type {\n",
       "        vertical-align: middle;\n",
       "    }\n",
       "\n",
       "    .dataframe tbody tr th {\n",
       "        vertical-align: top;\n",
       "    }\n",
       "\n",
       "    .dataframe thead th {\n",
       "        text-align: right;\n",
       "    }\n",
       "</style>\n",
       "<table border=\"1\" class=\"dataframe\">\n",
       "  <thead>\n",
       "    <tr style=\"text-align: right;\">\n",
       "      <th></th>\n",
       "      <th>ride_id</th>\n",
       "      <th>rideable_type</th>\n",
       "      <th>started_at</th>\n",
       "      <th>ended_at</th>\n",
       "      <th>member_casual</th>\n",
       "      <th>ride_length</th>\n",
       "      <th>day_of_week</th>\n",
       "    </tr>\n",
       "  </thead>\n",
       "  <tbody>\n",
       "    <tr>\n",
       "      <th>0</th>\n",
       "      <td>C809ED75D6160B2A</td>\n",
       "      <td>electric_bike</td>\n",
       "      <td>2021-05-30 11:58:15</td>\n",
       "      <td>2021-05-30 12:10:39</td>\n",
       "      <td>casual</td>\n",
       "      <td>0.206667</td>\n",
       "      <td>Sunday</td>\n",
       "    </tr>\n",
       "    <tr>\n",
       "      <th>1</th>\n",
       "      <td>DD59FDCE0ACACAF3</td>\n",
       "      <td>electric_bike</td>\n",
       "      <td>2021-05-30 11:29:14</td>\n",
       "      <td>2021-05-30 12:14:09</td>\n",
       "      <td>casual</td>\n",
       "      <td>0.748611</td>\n",
       "      <td>Sunday</td>\n",
       "    </tr>\n",
       "    <tr>\n",
       "      <th>2</th>\n",
       "      <td>0AB83CB88C43EFC2</td>\n",
       "      <td>electric_bike</td>\n",
       "      <td>2021-05-30 14:24:01</td>\n",
       "      <td>2021-05-30 14:25:13</td>\n",
       "      <td>casual</td>\n",
       "      <td>0.020000</td>\n",
       "      <td>Sunday</td>\n",
       "    </tr>\n",
       "    <tr>\n",
       "      <th>3</th>\n",
       "      <td>7881AC6D39110C60</td>\n",
       "      <td>electric_bike</td>\n",
       "      <td>2021-05-30 14:25:51</td>\n",
       "      <td>2021-05-30 14:41:04</td>\n",
       "      <td>casual</td>\n",
       "      <td>0.253611</td>\n",
       "      <td>Sunday</td>\n",
       "    </tr>\n",
       "    <tr>\n",
       "      <th>4</th>\n",
       "      <td>853FA701B4582BAF</td>\n",
       "      <td>electric_bike</td>\n",
       "      <td>2021-05-30 18:15:39</td>\n",
       "      <td>2021-05-30 18:22:32</td>\n",
       "      <td>casual</td>\n",
       "      <td>0.114722</td>\n",
       "      <td>Sunday</td>\n",
       "    </tr>\n",
       "    <tr>\n",
       "      <th>...</th>\n",
       "      <td>...</td>\n",
       "      <td>...</td>\n",
       "      <td>...</td>\n",
       "      <td>...</td>\n",
       "      <td>...</td>\n",
       "      <td>...</td>\n",
       "      <td>...</td>\n",
       "    </tr>\n",
       "    <tr>\n",
       "      <th>5757546</th>\n",
       "      <td>C5A123D7BF8D350A</td>\n",
       "      <td>electric_bike</td>\n",
       "      <td>2022-04-22 15:54:11</td>\n",
       "      <td>2022-04-22 16:20:59</td>\n",
       "      <td>member</td>\n",
       "      <td>0.446667</td>\n",
       "      <td>Friday</td>\n",
       "    </tr>\n",
       "    <tr>\n",
       "      <th>5757547</th>\n",
       "      <td>F7FCC7C26D8D137D</td>\n",
       "      <td>electric_bike</td>\n",
       "      <td>2022-04-21 20:18:17</td>\n",
       "      <td>2022-04-21 20:46:45</td>\n",
       "      <td>member</td>\n",
       "      <td>0.474444</td>\n",
       "      <td>Thursday</td>\n",
       "    </tr>\n",
       "    <tr>\n",
       "      <th>5757548</th>\n",
       "      <td>43D351300A40000A</td>\n",
       "      <td>classic_bike</td>\n",
       "      <td>2022-04-21 16:46:02</td>\n",
       "      <td>2022-04-21 17:15:05</td>\n",
       "      <td>member</td>\n",
       "      <td>0.484167</td>\n",
       "      <td>Thursday</td>\n",
       "    </tr>\n",
       "    <tr>\n",
       "      <th>5757549</th>\n",
       "      <td>1618BFEEA7B566EF</td>\n",
       "      <td>electric_bike</td>\n",
       "      <td>2022-04-16 13:19:44</td>\n",
       "      <td>2022-04-16 13:37:31</td>\n",
       "      <td>casual</td>\n",
       "      <td>0.296389</td>\n",
       "      <td>Saturday</td>\n",
       "    </tr>\n",
       "    <tr>\n",
       "      <th>5757550</th>\n",
       "      <td>92C069001A6B17B1</td>\n",
       "      <td>electric_bike</td>\n",
       "      <td>2022-04-21 18:06:41</td>\n",
       "      <td>2022-04-21 18:11:49</td>\n",
       "      <td>casual</td>\n",
       "      <td>0.085556</td>\n",
       "      <td>Thursday</td>\n",
       "    </tr>\n",
       "  </tbody>\n",
       "</table>\n",
       "<p>5757551 rows × 7 columns</p>\n",
       "</div>"
      ],
      "text/plain": [
       "                  ride_id  rideable_type          started_at  \\\n",
       "0        C809ED75D6160B2A  electric_bike 2021-05-30 11:58:15   \n",
       "1        DD59FDCE0ACACAF3  electric_bike 2021-05-30 11:29:14   \n",
       "2        0AB83CB88C43EFC2  electric_bike 2021-05-30 14:24:01   \n",
       "3        7881AC6D39110C60  electric_bike 2021-05-30 14:25:51   \n",
       "4        853FA701B4582BAF  electric_bike 2021-05-30 18:15:39   \n",
       "...                   ...            ...                 ...   \n",
       "5757546  C5A123D7BF8D350A  electric_bike 2022-04-22 15:54:11   \n",
       "5757547  F7FCC7C26D8D137D  electric_bike 2022-04-21 20:18:17   \n",
       "5757548  43D351300A40000A   classic_bike 2022-04-21 16:46:02   \n",
       "5757549  1618BFEEA7B566EF  electric_bike 2022-04-16 13:19:44   \n",
       "5757550  92C069001A6B17B1  electric_bike 2022-04-21 18:06:41   \n",
       "\n",
       "                   ended_at member_casual  ride_length day_of_week  \n",
       "0       2021-05-30 12:10:39        casual     0.206667      Sunday  \n",
       "1       2021-05-30 12:14:09        casual     0.748611      Sunday  \n",
       "2       2021-05-30 14:25:13        casual     0.020000      Sunday  \n",
       "3       2021-05-30 14:41:04        casual     0.253611      Sunday  \n",
       "4       2021-05-30 18:22:32        casual     0.114722      Sunday  \n",
       "...                     ...           ...          ...         ...  \n",
       "5757546 2022-04-22 16:20:59        member     0.446667      Friday  \n",
       "5757547 2022-04-21 20:46:45        member     0.474444    Thursday  \n",
       "5757548 2022-04-21 17:15:05        member     0.484167    Thursday  \n",
       "5757549 2022-04-16 13:37:31        casual     0.296389    Saturday  \n",
       "5757550 2022-04-21 18:11:49        casual     0.085556    Thursday  \n",
       "\n",
       "[5757551 rows x 7 columns]"
      ]
     },
     "execution_count": 101,
     "metadata": {},
     "output_type": "execute_result"
    }
   ],
   "source": [
    "df_merged_cleaned = df_merged.drop(cols_to_drop + ['start_lat', 'start_lng'], axis = 'columns')\n",
    "df_merged_cleaned"
   ]
  },
  {
   "cell_type": "markdown",
   "id": "0babf15a",
   "metadata": {},
   "source": [
    "### Step 5: Analyze data"
   ]
  },
  {
   "cell_type": "code",
   "execution_count": 103,
   "id": "480019b1",
   "metadata": {},
   "outputs": [
    {
     "name": "stdout",
     "output_type": "stream",
     "text": [
      "(5757551, 7)\n"
     ]
    },
    {
     "data": {
      "text/html": [
       "<div>\n",
       "<style scoped>\n",
       "    .dataframe tbody tr th:only-of-type {\n",
       "        vertical-align: middle;\n",
       "    }\n",
       "\n",
       "    .dataframe tbody tr th {\n",
       "        vertical-align: top;\n",
       "    }\n",
       "\n",
       "    .dataframe thead th {\n",
       "        text-align: right;\n",
       "    }\n",
       "</style>\n",
       "<table border=\"1\" class=\"dataframe\">\n",
       "  <thead>\n",
       "    <tr style=\"text-align: right;\">\n",
       "      <th></th>\n",
       "      <th>ride_length</th>\n",
       "    </tr>\n",
       "  </thead>\n",
       "  <tbody>\n",
       "    <tr>\n",
       "      <th>count</th>\n",
       "      <td>5.757551e+06</td>\n",
       "    </tr>\n",
       "    <tr>\n",
       "      <th>mean</th>\n",
       "      <td>3.523051e-01</td>\n",
       "    </tr>\n",
       "    <tr>\n",
       "      <th>std</th>\n",
       "      <td>2.867457e+00</td>\n",
       "    </tr>\n",
       "    <tr>\n",
       "      <th>min</th>\n",
       "      <td>-9.672222e-01</td>\n",
       "    </tr>\n",
       "    <tr>\n",
       "      <th>25%</th>\n",
       "      <td>1.075000e-01</td>\n",
       "    </tr>\n",
       "    <tr>\n",
       "      <th>50%</th>\n",
       "      <td>1.919444e-01</td>\n",
       "    </tr>\n",
       "    <tr>\n",
       "      <th>75%</th>\n",
       "      <td>3.491667e-01</td>\n",
       "    </tr>\n",
       "    <tr>\n",
       "      <th>max</th>\n",
       "      <td>9.324025e+02</td>\n",
       "    </tr>\n",
       "  </tbody>\n",
       "</table>\n",
       "</div>"
      ],
      "text/plain": [
       "        ride_length\n",
       "count  5.757551e+06\n",
       "mean   3.523051e-01\n",
       "std    2.867457e+00\n",
       "min   -9.672222e-01\n",
       "25%    1.075000e-01\n",
       "50%    1.919444e-01\n",
       "75%    3.491667e-01\n",
       "max    9.324025e+02"
      ]
     },
     "execution_count": 103,
     "metadata": {},
     "output_type": "execute_result"
    }
   ],
   "source": [
    "print(df_merged_cleaned.shape)\n",
    "df_merged_cleaned.describe()"
   ]
  },
  {
   "cell_type": "markdown",
   "id": "1be317dc",
   "metadata": {},
   "source": [
    "#### Member casual observations\n",
    "\n",
    "Evaluate comparison on how many rides are required on casual vs member riders."
   ]
  },
  {
   "cell_type": "code",
   "execution_count": 104,
   "id": "ffef89e2",
   "metadata": {
    "scrolled": true
   },
   "outputs": [
    {
     "data": {
      "text/plain": [
       "<AxesSubplot:xlabel='member_casual', ylabel='count'>"
      ]
     },
     "execution_count": 104,
     "metadata": {},
     "output_type": "execute_result"
    },
    {
     "data": {
      "image/png": "[encoded data removed]",
      "text/plain": [
       "<Figure size 432x288 with 1 Axes>"
      ]
     },
     "metadata": {},
     "output_type": "display_data"
    }
   ],
   "source": [
    "sns.countplot(x = 'member_casual', data = df_merged_cleaned)"
   ]
  },
  {
   "cell_type": "code",
   "execution_count": 105,
   "id": "9872a04a",
   "metadata": {
    "scrolled": true
   },
   "outputs": [
    {
     "data": {
      "text/plain": [
       "member    0.559473\n",
       "casual    0.440527\n",
       "Name: member_casual, dtype: float64"
      ]
     },
     "execution_count": 105,
     "metadata": {},
     "output_type": "execute_result"
    }
   ],
   "source": [
    "df_merged_cleaned['member_casual'].value_counts(normalize=True)"
   ]
  },
  {
   "cell_type": "markdown",
   "id": "6f355323",
   "metadata": {},
   "source": [
    "Based on **how many rides are required**, the member and casual rider requests seems to be balanced. Now, let us Evaluate the **total length of the rides** requested by casual vs member riders."
   ]
  },
  {
   "cell_type": "code",
   "execution_count": 106,
   "id": "6c60dc83",
   "metadata": {},
   "outputs": [
    {
     "data": {
      "text/html": [
       "<div>\n",
       "<style scoped>\n",
       "    .dataframe tbody tr th:only-of-type {\n",
       "        vertical-align: middle;\n",
       "    }\n",
       "\n",
       "    .dataframe tbody tr th {\n",
       "        vertical-align: top;\n",
       "    }\n",
       "\n",
       "    .dataframe thead th {\n",
       "        text-align: right;\n",
       "    }\n",
       "</style>\n",
       "<table border=\"1\" class=\"dataframe\">\n",
       "  <thead>\n",
       "    <tr style=\"text-align: right;\">\n",
       "      <th></th>\n",
       "      <th>member_casual</th>\n",
       "      <th>total_ride_length</th>\n",
       "    </tr>\n",
       "  </thead>\n",
       "  <tbody>\n",
       "    <tr>\n",
       "      <th>0</th>\n",
       "      <td>casual</td>\n",
       "      <td>1.322743e+06</td>\n",
       "    </tr>\n",
       "    <tr>\n",
       "      <th>1</th>\n",
       "      <td>member</td>\n",
       "      <td>7.056711e+05</td>\n",
       "    </tr>\n",
       "  </tbody>\n",
       "</table>\n",
       "</div>"
      ],
      "text/plain": [
       "  member_casual  total_ride_length\n",
       "0        casual       1.322743e+06\n",
       "1        member       7.056711e+05"
      ]
     },
     "execution_count": 106,
     "metadata": {},
     "output_type": "execute_result"
    }
   ],
   "source": [
    "df_grp_member_casual = df_merged_cleaned.groupby(['member_casual'])['ride_length'].sum()\n",
    "df_grp_member_casual = df_grp_member_casual.reset_index(name='total_ride_length')\n",
    "df_grp_member_casual"
   ]
  },
  {
   "cell_type": "code",
   "execution_count": 108,
   "id": "eacbc35c",
   "metadata": {},
   "outputs": [
    {
     "data": {
      "text/plain": [
       "<AxesSubplot:xlabel='member_casual', ylabel='total_ride_length'>"
      ]
     },
     "execution_count": 108,
     "metadata": {},
     "output_type": "execute_result"
    },
    {
     "data": {
      "image/png": "[encoded data removed]",
      "text/plain": [
       "<Figure size 432x288 with 1 Axes>"
      ]
     },
     "metadata": {},
     "output_type": "display_data"
    }
   ],
   "source": [
    "sns.barplot(x = 'member_casual', y = 'total_ride_length', data = df_grp_member_casual)"
   ]
  },
  {
   "cell_type": "code",
   "execution_count": 107,
   "id": "c1311b5a",
   "metadata": {
    "scrolled": true
   },
   "outputs": [
    {
     "data": {
      "text/plain": [
       "member_casual\n",
       "casual    0.521513\n",
       "member    0.219071\n",
       "Name: ride_length, dtype: float64"
      ]
     },
     "execution_count": 107,
     "metadata": {},
     "output_type": "execute_result"
    }
   ],
   "source": [
    "df_merged_cleaned.groupby(['member_casual'])['ride_length'].mean()"
   ]
  },
  {
   "cell_type": "code",
   "execution_count": 115,
   "id": "abfddbb8",
   "metadata": {
    "scrolled": false
   },
   "outputs": [
    {
     "data": {
      "text/plain": [
       "<AxesSubplot:xlabel='member_casual', ylabel='ride_length'>"
      ]
     },
     "execution_count": 115,
     "metadata": {},
     "output_type": "execute_result"
    },
    {
     "data": {
      "image/png": "[encoded data removed]",
      "text/plain": [
       "<Figure size 432x288 with 1 Axes>"
      ]
     },
     "metadata": {},
     "output_type": "display_data"
    }
   ],
   "source": [
    "sns.barplot(x = 'member_casual', y = 'ride_length', data = df_merged_cleaned)  "
   ]
  },
  {
   "cell_type": "markdown",
   "id": "4b3cf5c0",
   "metadata": {},
   "source": [
    "Interestingly, **the ride length is higher for casual riders than member riders**. This is regardless the number of requests are kind of balanced. That can be seen also in the average of casual vs member ride lengths: **Casual riders spend 0.5 hrs in average ride length whereas members spend only 0.2 hrs.** Let us deep dive a bit more on casual riders.\n"
   ]
  },
  {
   "cell_type": "code",
   "execution_count": 114,
   "id": "22818191",
   "metadata": {},
   "outputs": [
    {
     "data": {
      "text/html": [
       "<div>\n",
       "<style scoped>\n",
       "    .dataframe tbody tr th:only-of-type {\n",
       "        vertical-align: middle;\n",
       "    }\n",
       "\n",
       "    .dataframe tbody tr th {\n",
       "        vertical-align: top;\n",
       "    }\n",
       "\n",
       "    .dataframe thead th {\n",
       "        text-align: right;\n",
       "    }\n",
       "</style>\n",
       "<table border=\"1\" class=\"dataframe\">\n",
       "  <thead>\n",
       "    <tr style=\"text-align: right;\">\n",
       "      <th></th>\n",
       "      <th>ride_length</th>\n",
       "    </tr>\n",
       "  </thead>\n",
       "  <tbody>\n",
       "    <tr>\n",
       "      <th>count</th>\n",
       "      <td>2.536358e+06</td>\n",
       "    </tr>\n",
       "    <tr>\n",
       "      <th>mean</th>\n",
       "      <td>5.215129e-01</td>\n",
       "    </tr>\n",
       "    <tr>\n",
       "      <th>std</th>\n",
       "      <td>4.284026e+00</td>\n",
       "    </tr>\n",
       "    <tr>\n",
       "      <th>min</th>\n",
       "      <td>-9.672222e-01</td>\n",
       "    </tr>\n",
       "    <tr>\n",
       "      <th>25%</th>\n",
       "      <td>1.472222e-01</td>\n",
       "    </tr>\n",
       "    <tr>\n",
       "      <th>50%</th>\n",
       "      <td>2.594444e-01</td>\n",
       "    </tr>\n",
       "    <tr>\n",
       "      <th>75%</th>\n",
       "      <td>4.747222e-01</td>\n",
       "    </tr>\n",
       "    <tr>\n",
       "      <th>max</th>\n",
       "      <td>9.324025e+02</td>\n",
       "    </tr>\n",
       "  </tbody>\n",
       "</table>\n",
       "</div>"
      ],
      "text/plain": [
       "        ride_length\n",
       "count  2.536358e+06\n",
       "mean   5.215129e-01\n",
       "std    4.284026e+00\n",
       "min   -9.672222e-01\n",
       "25%    1.472222e-01\n",
       "50%    2.594444e-01\n",
       "75%    4.747222e-01\n",
       "max    9.324025e+02"
      ]
     },
     "execution_count": 114,
     "metadata": {},
     "output_type": "execute_result"
    }
   ],
   "source": [
    "df_casual_only.describe()"
   ]
  },
  {
   "cell_type": "code",
   "execution_count": 113,
   "id": "a6c1fb21",
   "metadata": {},
   "outputs": [
    {
     "data": {
      "text/html": [
       "<div>\n",
       "<style scoped>\n",
       "    .dataframe tbody tr th:only-of-type {\n",
       "        vertical-align: middle;\n",
       "    }\n",
       "\n",
       "    .dataframe tbody tr th {\n",
       "        vertical-align: top;\n",
       "    }\n",
       "\n",
       "    .dataframe thead th {\n",
       "        text-align: right;\n",
       "    }\n",
       "</style>\n",
       "<table border=\"1\" class=\"dataframe\">\n",
       "  <thead>\n",
       "    <tr style=\"text-align: right;\">\n",
       "      <th></th>\n",
       "      <th></th>\n",
       "      <th>ride_length</th>\n",
       "    </tr>\n",
       "    <tr>\n",
       "      <th>member_casual</th>\n",
       "      <th>rideable_type</th>\n",
       "      <th></th>\n",
       "    </tr>\n",
       "  </thead>\n",
       "  <tbody>\n",
       "    <tr>\n",
       "      <th rowspan=\"3\" valign=\"top\">casual</th>\n",
       "      <th>classic_bike</th>\n",
       "      <td>593255.227778</td>\n",
       "    </tr>\n",
       "    <tr>\n",
       "      <th>docked_bike</th>\n",
       "      <td>404098.368056</td>\n",
       "    </tr>\n",
       "    <tr>\n",
       "      <th>electric_bike</th>\n",
       "      <td>325389.763889</td>\n",
       "    </tr>\n",
       "    <tr>\n",
       "      <th rowspan=\"2\" valign=\"top\">member</th>\n",
       "      <th>classic_bike</th>\n",
       "      <td>452600.813333</td>\n",
       "    </tr>\n",
       "    <tr>\n",
       "      <th>electric_bike</th>\n",
       "      <td>253070.276111</td>\n",
       "    </tr>\n",
       "  </tbody>\n",
       "</table>\n",
       "</div>"
      ],
      "text/plain": [
       "                               ride_length\n",
       "member_casual rideable_type               \n",
       "casual        classic_bike   593255.227778\n",
       "              docked_bike    404098.368056\n",
       "              electric_bike  325389.763889\n",
       "member        classic_bike   452600.813333\n",
       "              electric_bike  253070.276111"
      ]
     },
     "execution_count": 113,
     "metadata": {},
     "output_type": "execute_result"
    }
   ],
   "source": [
    "df_merged_cleaned.groupby(['member_casual', 'rideable_type'])['ride_length'].sum().to_frame()"
   ]
  },
  {
   "cell_type": "code",
   "execution_count": 109,
   "id": "45f5c702",
   "metadata": {},
   "outputs": [
    {
     "data": {
      "text/html": [
       "<div>\n",
       "<style scoped>\n",
       "    .dataframe tbody tr th:only-of-type {\n",
       "        vertical-align: middle;\n",
       "    }\n",
       "\n",
       "    .dataframe tbody tr th {\n",
       "        vertical-align: top;\n",
       "    }\n",
       "\n",
       "    .dataframe thead th {\n",
       "        text-align: right;\n",
       "    }\n",
       "</style>\n",
       "<table border=\"1\" class=\"dataframe\">\n",
       "  <thead>\n",
       "    <tr style=\"text-align: right;\">\n",
       "      <th></th>\n",
       "      <th>rideable_type</th>\n",
       "      <th>rate</th>\n",
       "    </tr>\n",
       "  </thead>\n",
       "  <tbody>\n",
       "    <tr>\n",
       "      <th>0</th>\n",
       "      <td>classic_bike</td>\n",
       "      <td>0.486686</td>\n",
       "    </tr>\n",
       "    <tr>\n",
       "      <th>1</th>\n",
       "      <td>electric_bike</td>\n",
       "      <td>0.398428</td>\n",
       "    </tr>\n",
       "    <tr>\n",
       "      <th>2</th>\n",
       "      <td>docked_bike</td>\n",
       "      <td>0.114886</td>\n",
       "    </tr>\n",
       "  </tbody>\n",
       "</table>\n",
       "</div>"
      ],
      "text/plain": [
       "   rideable_type      rate\n",
       "0   classic_bike  0.486686\n",
       "1  electric_bike  0.398428\n",
       "2    docked_bike  0.114886"
      ]
     },
     "execution_count": 109,
     "metadata": {},
     "output_type": "execute_result"
    }
   ],
   "source": [
    "df_casual_only = df_merged_cleaned[df_merged_cleaned['member_casual']== 'casual']\n",
    "df_casual_only_rates = df_casual_only['rideable_type'].value_counts(normalize=True).reset_index()\n",
    "df_casual_only_rates.columns = ['rideable_type', 'rate']\n",
    "df_casual_only_rates"
   ]
  },
  {
   "cell_type": "code",
   "execution_count": 110,
   "id": "abbb8d26",
   "metadata": {},
   "outputs": [
    {
     "data": {
      "text/plain": [
       "([<matplotlib.patches.Wedge at 0x248098cc430>,\n",
       "  <matplotlib.patches.Wedge at 0x248098ccb50>,\n",
       "  <matplotlib.patches.Wedge at 0x248098cd270>],\n",
       " [Text(0.0459963936016839, 1.0990379118918687, 'classic_bike'),\n",
       "  Text(-0.43114562332816436, -1.0119849067476099, 'electric_bike'),\n",
       "  Text(1.02912811142566, -0.3884524813583438, 'docked_bike')],\n",
       " [Text(0.025088941964554853, 0.599475224668292, '49%'),\n",
       "  Text(-0.23517033999718054, -0.551991767316878, '40%'),\n",
       "  Text(0.5613426062321781, -0.2118831716500057, '11%')])"
      ]
     },
     "execution_count": 110,
     "metadata": {},
     "output_type": "execute_result"
    },
    {
     "data": {
      "image/png": "[encoded data removed]",
      "text/plain": [
       "<Figure size 432x288 with 1 Axes>"
      ]
     },
     "metadata": {},
     "output_type": "display_data"
    }
   ],
   "source": [
    "colors = sns.color_palette('pastel')[0:3]\n",
    "plt.pie(df_casual_only_rates['rate'], labels = df_casual_only_rates['rideable_type'], colors = colors, autopct='%.0f%%')\n"
   ]
  },
  {
   "cell_type": "markdown",
   "id": "9baf8f0a",
   "metadata": {},
   "source": [
    "This is such an interesting finding: **Docked bikes are used only for casual riders, not for member ones**. Actually, **Docked bikes represent 11% of the total requests**. However, **classic bikes represent the biggest portion of requests (48%).** the Let us see how this behaves including days of the week."
   ]
  },
  {
   "cell_type": "code",
   "execution_count": 111,
   "id": "7bab80ec",
   "metadata": {
    "scrolled": true
   },
   "outputs": [
    {
     "data": {
      "text/html": [
       "<div>\n",
       "<style scoped>\n",
       "    .dataframe tbody tr th:only-of-type {\n",
       "        vertical-align: middle;\n",
       "    }\n",
       "\n",
       "    .dataframe tbody tr th {\n",
       "        vertical-align: top;\n",
       "    }\n",
       "\n",
       "    .dataframe thead th {\n",
       "        text-align: right;\n",
       "    }\n",
       "</style>\n",
       "<table border=\"1\" class=\"dataframe\">\n",
       "  <thead>\n",
       "    <tr style=\"text-align: right;\">\n",
       "      <th></th>\n",
       "      <th>member_casual</th>\n",
       "      <th>rideable_type</th>\n",
       "      <th>day_of_week</th>\n",
       "      <th>ride_length</th>\n",
       "    </tr>\n",
       "  </thead>\n",
       "  <tbody>\n",
       "    <tr>\n",
       "      <th>16</th>\n",
       "      <td>casual</td>\n",
       "      <td>electric_bike</td>\n",
       "      <td>Saturday</td>\n",
       "      <td>66402.540278</td>\n",
       "    </tr>\n",
       "    <tr>\n",
       "      <th>17</th>\n",
       "      <td>casual</td>\n",
       "      <td>electric_bike</td>\n",
       "      <td>Sunday</td>\n",
       "      <td>60384.319722</td>\n",
       "    </tr>\n",
       "    <tr>\n",
       "      <th>14</th>\n",
       "      <td>casual</td>\n",
       "      <td>electric_bike</td>\n",
       "      <td>Friday</td>\n",
       "      <td>45732.013333</td>\n",
       "    </tr>\n",
       "    <tr>\n",
       "      <th>15</th>\n",
       "      <td>casual</td>\n",
       "      <td>electric_bike</td>\n",
       "      <td>Monday</td>\n",
       "      <td>39903.793889</td>\n",
       "    </tr>\n",
       "    <tr>\n",
       "      <th>18</th>\n",
       "      <td>casual</td>\n",
       "      <td>electric_bike</td>\n",
       "      <td>Thursday</td>\n",
       "      <td>38585.683333</td>\n",
       "    </tr>\n",
       "    <tr>\n",
       "      <th>20</th>\n",
       "      <td>casual</td>\n",
       "      <td>electric_bike</td>\n",
       "      <td>Wednesday</td>\n",
       "      <td>37575.518611</td>\n",
       "    </tr>\n",
       "    <tr>\n",
       "      <th>19</th>\n",
       "      <td>casual</td>\n",
       "      <td>electric_bike</td>\n",
       "      <td>Tuesday</td>\n",
       "      <td>36805.894722</td>\n",
       "    </tr>\n",
       "    <tr>\n",
       "      <th>9</th>\n",
       "      <td>casual</td>\n",
       "      <td>docked_bike</td>\n",
       "      <td>Saturday</td>\n",
       "      <td>100713.981667</td>\n",
       "    </tr>\n",
       "    <tr>\n",
       "      <th>10</th>\n",
       "      <td>casual</td>\n",
       "      <td>docked_bike</td>\n",
       "      <td>Sunday</td>\n",
       "      <td>99654.928889</td>\n",
       "    </tr>\n",
       "    <tr>\n",
       "      <th>7</th>\n",
       "      <td>casual</td>\n",
       "      <td>docked_bike</td>\n",
       "      <td>Friday</td>\n",
       "      <td>51839.787222</td>\n",
       "    </tr>\n",
       "    <tr>\n",
       "      <th>8</th>\n",
       "      <td>casual</td>\n",
       "      <td>docked_bike</td>\n",
       "      <td>Monday</td>\n",
       "      <td>44946.711389</td>\n",
       "    </tr>\n",
       "    <tr>\n",
       "      <th>11</th>\n",
       "      <td>casual</td>\n",
       "      <td>docked_bike</td>\n",
       "      <td>Thursday</td>\n",
       "      <td>39942.956667</td>\n",
       "    </tr>\n",
       "    <tr>\n",
       "      <th>13</th>\n",
       "      <td>casual</td>\n",
       "      <td>docked_bike</td>\n",
       "      <td>Wednesday</td>\n",
       "      <td>35752.573611</td>\n",
       "    </tr>\n",
       "    <tr>\n",
       "      <th>12</th>\n",
       "      <td>casual</td>\n",
       "      <td>docked_bike</td>\n",
       "      <td>Tuesday</td>\n",
       "      <td>31247.428611</td>\n",
       "    </tr>\n",
       "    <tr>\n",
       "      <th>2</th>\n",
       "      <td>casual</td>\n",
       "      <td>classic_bike</td>\n",
       "      <td>Saturday</td>\n",
       "      <td>151227.945000</td>\n",
       "    </tr>\n",
       "    <tr>\n",
       "      <th>3</th>\n",
       "      <td>casual</td>\n",
       "      <td>classic_bike</td>\n",
       "      <td>Sunday</td>\n",
       "      <td>133839.423333</td>\n",
       "    </tr>\n",
       "    <tr>\n",
       "      <th>0</th>\n",
       "      <td>casual</td>\n",
       "      <td>classic_bike</td>\n",
       "      <td>Friday</td>\n",
       "      <td>76804.522500</td>\n",
       "    </tr>\n",
       "    <tr>\n",
       "      <th>1</th>\n",
       "      <td>casual</td>\n",
       "      <td>classic_bike</td>\n",
       "      <td>Monday</td>\n",
       "      <td>64797.828889</td>\n",
       "    </tr>\n",
       "    <tr>\n",
       "      <th>4</th>\n",
       "      <td>casual</td>\n",
       "      <td>classic_bike</td>\n",
       "      <td>Thursday</td>\n",
       "      <td>60008.523889</td>\n",
       "    </tr>\n",
       "    <tr>\n",
       "      <th>6</th>\n",
       "      <td>casual</td>\n",
       "      <td>classic_bike</td>\n",
       "      <td>Wednesday</td>\n",
       "      <td>55301.998889</td>\n",
       "    </tr>\n",
       "    <tr>\n",
       "      <th>5</th>\n",
       "      <td>casual</td>\n",
       "      <td>classic_bike</td>\n",
       "      <td>Tuesday</td>\n",
       "      <td>51274.985278</td>\n",
       "    </tr>\n",
       "  </tbody>\n",
       "</table>\n",
       "</div>"
      ],
      "text/plain": [
       "   member_casual  rideable_type day_of_week    ride_length\n",
       "16        casual  electric_bike    Saturday   66402.540278\n",
       "17        casual  electric_bike      Sunday   60384.319722\n",
       "14        casual  electric_bike      Friday   45732.013333\n",
       "15        casual  electric_bike      Monday   39903.793889\n",
       "18        casual  electric_bike    Thursday   38585.683333\n",
       "20        casual  electric_bike   Wednesday   37575.518611\n",
       "19        casual  electric_bike     Tuesday   36805.894722\n",
       "9         casual    docked_bike    Saturday  100713.981667\n",
       "10        casual    docked_bike      Sunday   99654.928889\n",
       "7         casual    docked_bike      Friday   51839.787222\n",
       "8         casual    docked_bike      Monday   44946.711389\n",
       "11        casual    docked_bike    Thursday   39942.956667\n",
       "13        casual    docked_bike   Wednesday   35752.573611\n",
       "12        casual    docked_bike     Tuesday   31247.428611\n",
       "2         casual   classic_bike    Saturday  151227.945000\n",
       "3         casual   classic_bike      Sunday  133839.423333\n",
       "0         casual   classic_bike      Friday   76804.522500\n",
       "1         casual   classic_bike      Monday   64797.828889\n",
       "4         casual   classic_bike    Thursday   60008.523889\n",
       "6         casual   classic_bike   Wednesday   55301.998889\n",
       "5         casual   classic_bike     Tuesday   51274.985278"
      ]
     },
     "execution_count": 111,
     "metadata": {},
     "output_type": "execute_result"
    }
   ],
   "source": [
    "df_casual_only_dow = df_casual_only.groupby(['member_casual', 'rideable_type','day_of_week'])['ride_length'].sum().reset_index().sort_values(by = ['rideable_type','ride_length'], ascending =False)\n",
    "df_casual_only_dow"
   ]
  },
  {
   "cell_type": "code",
   "execution_count": 112,
   "id": "e6f5cad5",
   "metadata": {},
   "outputs": [
    {
     "data": {
      "text/plain": [
       "<AxesSubplot:xlabel='day_of_week', ylabel='ride_length'>"
      ]
     },
     "execution_count": 112,
     "metadata": {},
     "output_type": "execute_result"
    },
    {
     "data": {
      "image/png": "[encoded data removed]",
      "text/plain": [
       "<Figure size 432x288 with 1 Axes>"
      ]
     },
     "metadata": {},
     "output_type": "display_data"
    }
   ],
   "source": [
    "sns.barplot(x = 'day_of_week', y = 'ride_length' , data = df_casual_only_dow, hue = 'rideable_type')"
   ]
  },
  {
   "cell_type": "markdown",
   "id": "b4ff264c",
   "metadata": {},
   "source": [
    "This plot confirms the same of the pie plot: **Classic Bikes are the most required ones**. Furthermore, we can see that **Weekends are the days in which people use more the service.**"
   ]
  },
  {
   "cell_type": "markdown",
   "id": "db690e2e",
   "metadata": {},
   "source": [
    "# Conclusions:\n",
    "\n",
    "#### How do annual members and casual riders use Cyclistic bikes differently?\n",
    "\n",
    "Based on what is portrayed above, the number of requests by member and casual riders is kind of balanced. (55% of member riders vs 44% casual riders). However, there is more length in ride from Casual riders.\n",
    "\n",
    "#### Why would casual riders buy Cyclistic annual memberships?\n",
    "\n",
    "As the data tells us, the length in ride comes more from casual riders. They would have more benefits using the membership instead of paying per use.\n",
    "\n",
    "#### How can Cyclistic use digital media to influence casual riders to become members?\n",
    "\n",
    "* Considering weekends are the busiest days with requests, digital media can be released on a weekly basis (weekends).\n",
    "* The average use time of the service by casual users was half an hour. This might mean (we might need more data and knowledge of the places users are visiting) that users ride for either to buy food, supplies or some other stuff or because they just want to do some exercise. Keeping in mind those things would help the business use digital media to share a message that makes users think about their health or the fact that it is easier and healthier to use a bicycle for picking up stuff, visiting new places, etc.  "
   ]
  }
 ],
 "metadata": {
  "kernelspec": {
   "display_name": "Python 3 (ipykernel)",
   "language": "python",
   "name": "python3"
  },
  "language_info": {
   "codemirror_mode": {
    "name": "ipython",
    "version": 3
   },
   "file_extension": ".py",
   "mimetype": "text/x-python",
   "name": "python",
   "nbconvert_exporter": "python",
   "pygments_lexer": "ipython3",
   "version": "3.10.2"
  }
 },
 "nbformat": 4,
 "nbformat_minor": 5
}
